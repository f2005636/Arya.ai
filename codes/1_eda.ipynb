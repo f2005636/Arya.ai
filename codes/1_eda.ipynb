{
 "cells": [
  {
   "cell_type": "markdown",
   "metadata": {},
   "source": [
    "# 1. import libraries"
   ]
  },
  {
   "cell_type": "code",
   "execution_count": 1,
   "metadata": {},
   "outputs": [],
   "source": [
    "import warnings\n",
    "import numpy as np\n",
    "import pandas as pd\n",
    "import matplotlib.pyplot as plt\n",
    "import seaborn as sns"
   ]
  },
  {
   "cell_type": "code",
   "execution_count": 2,
   "metadata": {},
   "outputs": [],
   "source": [
    "from sklearn import tree\n",
    "from statsmodels.tools.tools import add_constant\n",
    "from statsmodels.stats.outliers_influence import variance_inflation_factor"
   ]
  },
  {
   "cell_type": "code",
   "execution_count": 3,
   "metadata": {},
   "outputs": [],
   "source": [
    "warnings.filterwarnings(\"ignore\")\n",
    "plt.style.use('seaborn-white')\n",
    "plt.rcParams['figure.figsize'] = 15,5\n",
    "%matplotlib inline"
   ]
  },
  {
   "cell_type": "markdown",
   "metadata": {},
   "source": [
    "---\n",
    "# 2. import dataset"
   ]
  },
  {
   "cell_type": "code",
   "execution_count": 4,
   "metadata": {},
   "outputs": [
    {
     "name": "stdout",
     "output_type": "stream",
     "text": [
      "<class 'pandas.core.frame.DataFrame'>\n",
      "RangeIndex: 3910 entries, 0 to 3909\n",
      "Data columns (total 59 columns):\n",
      "Unnamed: 0    3910 non-null int64\n",
      "X1            3910 non-null float64\n",
      "X2            3910 non-null float64\n",
      "X3            3910 non-null float64\n",
      "X4            3910 non-null float64\n",
      "X5            3910 non-null float64\n",
      "X6            3910 non-null float64\n",
      "X7            3910 non-null float64\n",
      "X8            3910 non-null float64\n",
      "X9            3910 non-null float64\n",
      "X10           3910 non-null float64\n",
      "X11           3910 non-null float64\n",
      "X12           3910 non-null float64\n",
      "X13           3910 non-null float64\n",
      "X14           3910 non-null float64\n",
      "X15           3910 non-null float64\n",
      "X16           3910 non-null float64\n",
      "X17           3910 non-null float64\n",
      "X18           3910 non-null float64\n",
      "X19           3910 non-null float64\n",
      "X20           3910 non-null float64\n",
      "X21           3910 non-null float64\n",
      "X22           3910 non-null float64\n",
      "X23           3910 non-null float64\n",
      "X24           3910 non-null float64\n",
      "X25           3910 non-null float64\n",
      "X26           3910 non-null float64\n",
      "X27           3910 non-null float64\n",
      "X28           3910 non-null float64\n",
      "X29           3910 non-null float64\n",
      "X30           3910 non-null float64\n",
      "X31           3910 non-null float64\n",
      "X32           3910 non-null float64\n",
      "X33           3910 non-null float64\n",
      "X34           3910 non-null float64\n",
      "X35           3910 non-null float64\n",
      "X36           3910 non-null float64\n",
      "X37           3910 non-null float64\n",
      "X38           3910 non-null float64\n",
      "X39           3910 non-null float64\n",
      "X40           3910 non-null float64\n",
      "X41           3910 non-null float64\n",
      "X42           3910 non-null float64\n",
      "X43           3910 non-null float64\n",
      "X44           3910 non-null float64\n",
      "X45           3910 non-null float64\n",
      "X46           3910 non-null float64\n",
      "X47           3910 non-null float64\n",
      "X48           3910 non-null float64\n",
      "X49           3910 non-null float64\n",
      "X50           3910 non-null float64\n",
      "X51           3910 non-null float64\n",
      "X52           3910 non-null float64\n",
      "X53           3910 non-null float64\n",
      "X54           3910 non-null float64\n",
      "X55           3910 non-null float64\n",
      "X56           3910 non-null int64\n",
      "X57           3910 non-null int64\n",
      "Y             3910 non-null int64\n",
      "dtypes: float64(55), int64(4)\n",
      "memory usage: 1.8 MB\n"
     ]
    }
   ],
   "source": [
    "df = pd.read_csv('../inputs/training_set.csv')\n",
    "df.info()"
   ]
  },
  {
   "cell_type": "markdown",
   "metadata": {},
   "source": [
    "---\n",
    "# 3. IV"
   ]
  },
  {
   "cell_type": "code",
   "execution_count": 5,
   "metadata": {},
   "outputs": [],
   "source": [
    "def shortlist_var(x,y,z,i,j):\n",
    "    df[x] = df[x].fillna(-1)\n",
    "    dtree = tree.DecisionTreeClassifier(random_state=42, max_depth=i, min_samples_leaf=j)\n",
    "    dtree = dtree.fit(df[[x]],df[y])\n",
    "    \n",
    "    df[z] = dtree.apply(df[[x]])\n",
    "    gb = df.groupby(z).agg({'Unnamed: 0':'count', x:['min','max'], y:'mean'}).reset_index()\n",
    "    gb.columns = ['bin', 'count', 'min', 'max', 'bad']\n",
    "    \n",
    "    gb['good'] = 1 - gb['bad']\n",
    "    gb['pct_bad'] = gb['bad'] / gb['bad'].sum()\n",
    "    gb['pct_good'] = gb['good'] / gb['good'].sum()\n",
    "    gb['WOE'] = np.log(gb['pct_bad'] / gb['pct_good'])\n",
    "    gb['IV'] = gb['WOE'] * (gb['pct_bad'] - gb['pct_good'])\n",
    "    print(x,': ',round(gb['IV'].sum(),3))"
   ]
  },
  {
   "cell_type": "code",
   "execution_count": 6,
   "metadata": {},
   "outputs": [
    {
     "name": "stdout",
     "output_type": "stream",
     "text": [
      "X1 :  0.416\n",
      "X2 :  0.691\n",
      "X3 :  0.434\n",
      "X4 :  0.0\n",
      "X5 :  0.565\n",
      "X6 :  0.648\n",
      "X7 :  2.901\n",
      "X8 :  0.829\n",
      "X9 :  0.674\n",
      "X10 :  0.434\n",
      "X11 :  1.101\n",
      "X12 :  0.406\n",
      "X13 :  0.39\n",
      "X14 :  0.388\n",
      "X15 :  1.382\n",
      "X16 :  1.283\n",
      "X17 :  0.77\n",
      "X18 :  0.422\n",
      "X19 :  0.46\n",
      "X20 :  1.898\n",
      "X21 :  0.775\n",
      "X22 :  0.0\n",
      "X23 :  2.188\n",
      "X24 :  2.653\n",
      "X25 :  3.09\n",
      "X26 :  2.812\n",
      "X27 :  inf\n",
      "X28 :  1.21\n",
      "X29 :  3.357\n",
      "X30 :  1.578\n",
      "X31 :  2.451\n",
      "X32 :  0.0\n",
      "X33 :  0.506\n",
      "X34 :  0.0\n",
      "X35 :  1.651\n",
      "X36 :  0.452\n",
      "X37 :  0.781\n",
      "X38 :  0.0\n",
      "X39 :  0.772\n",
      "X40 :  0.02\n",
      "X41 :  0.0\n",
      "X42 :  2.667\n",
      "X43 :  1.516\n",
      "X44 :  0.941\n",
      "X45 :  1.213\n",
      "X46 :  1.348\n",
      "X47 :  0.0\n",
      "X48 :  0.0\n",
      "X49 :  0.223\n",
      "X50 :  0.646\n",
      "X51 :  0.234\n",
      "X52 :  1.064\n",
      "X53 :  1.815\n",
      "X54 :  0.539\n",
      "X55 :  1.487\n",
      "X56 :  1.505\n",
      "X57 :  1.251\n"
     ]
    }
   ],
   "source": [
    "shortlist_var('X1', 'Y', 'bin', 3, 200)\n",
    "shortlist_var('X2', 'Y', 'bin', 3, 200)\n",
    "shortlist_var('X3', 'Y', 'bin', 3, 200)\n",
    "shortlist_var('X4', 'Y', 'bin', 3, 200)\n",
    "shortlist_var('X5', 'Y', 'bin', 3, 200)\n",
    "shortlist_var('X6', 'Y', 'bin', 3, 200)\n",
    "shortlist_var('X7', 'Y', 'bin', 3, 200)\n",
    "shortlist_var('X8', 'Y', 'bin', 3, 200)\n",
    "shortlist_var('X9', 'Y', 'bin', 3, 200)\n",
    "shortlist_var('X10', 'Y', 'bin', 3, 200)\n",
    "shortlist_var('X11', 'Y', 'bin', 3, 200)\n",
    "shortlist_var('X12', 'Y', 'bin', 3, 200)\n",
    "shortlist_var('X13', 'Y', 'bin', 3, 200)\n",
    "shortlist_var('X14', 'Y', 'bin', 3, 200)\n",
    "shortlist_var('X15', 'Y', 'bin', 3, 200)\n",
    "shortlist_var('X16', 'Y', 'bin', 3, 200)\n",
    "shortlist_var('X17', 'Y', 'bin', 3, 200)\n",
    "shortlist_var('X18', 'Y', 'bin', 3, 200)\n",
    "shortlist_var('X19', 'Y', 'bin', 3, 200)\n",
    "shortlist_var('X20', 'Y', 'bin', 3, 200)\n",
    "shortlist_var('X21', 'Y', 'bin', 3, 200)\n",
    "shortlist_var('X22', 'Y', 'bin', 3, 200)\n",
    "shortlist_var('X23', 'Y', 'bin', 3, 200)\n",
    "shortlist_var('X24', 'Y', 'bin', 3, 200)\n",
    "shortlist_var('X25', 'Y', 'bin', 3, 200)\n",
    "shortlist_var('X26', 'Y', 'bin', 3, 200)\n",
    "shortlist_var('X27', 'Y', 'bin', 3, 200)\n",
    "shortlist_var('X28', 'Y', 'bin', 3, 200)\n",
    "shortlist_var('X29', 'Y', 'bin', 3, 200)\n",
    "shortlist_var('X30', 'Y', 'bin', 3, 200)\n",
    "shortlist_var('X31', 'Y', 'bin', 3, 200)\n",
    "shortlist_var('X32', 'Y', 'bin', 3, 200)\n",
    "shortlist_var('X33', 'Y', 'bin', 3, 200)\n",
    "shortlist_var('X34', 'Y', 'bin', 3, 200)\n",
    "shortlist_var('X35', 'Y', 'bin', 3, 200)\n",
    "shortlist_var('X36', 'Y', 'bin', 3, 200)\n",
    "shortlist_var('X37', 'Y', 'bin', 3, 200)\n",
    "shortlist_var('X38', 'Y', 'bin', 3, 200)\n",
    "shortlist_var('X39', 'Y', 'bin', 3, 200)\n",
    "shortlist_var('X40', 'Y', 'bin', 3, 200)\n",
    "shortlist_var('X41', 'Y', 'bin', 3, 200)\n",
    "shortlist_var('X42', 'Y', 'bin', 3, 200)\n",
    "shortlist_var('X43', 'Y', 'bin', 3, 200)\n",
    "shortlist_var('X44', 'Y', 'bin', 3, 200)\n",
    "shortlist_var('X45', 'Y', 'bin', 3, 200)\n",
    "shortlist_var('X46', 'Y', 'bin', 3, 200)\n",
    "shortlist_var('X47', 'Y', 'bin', 3, 200)\n",
    "shortlist_var('X48', 'Y', 'bin', 3, 200)\n",
    "shortlist_var('X49', 'Y', 'bin', 3, 200)\n",
    "shortlist_var('X50', 'Y', 'bin', 3, 200)\n",
    "shortlist_var('X51', 'Y', 'bin', 3, 200)\n",
    "shortlist_var('X52', 'Y', 'bin', 3, 200)\n",
    "shortlist_var('X53', 'Y', 'bin', 3, 200)\n",
    "shortlist_var('X54', 'Y', 'bin', 3, 200)\n",
    "shortlist_var('X55', 'Y', 'bin', 3, 200)\n",
    "shortlist_var('X56', 'Y', 'bin', 3, 200)\n",
    "shortlist_var('X57', 'Y', 'bin', 3, 200)"
   ]
  },
  {
   "cell_type": "code",
   "execution_count": 7,
   "metadata": {},
   "outputs": [
    {
     "name": "stdout",
     "output_type": "stream",
     "text": [
      "X23 :  2.188\n",
      "X31 :  2.451\n",
      "X24 :  2.653\n",
      "X42 :  2.667\n",
      "X26 :  2.812\n",
      "X7 :  2.901\n",
      "X25 :  3.09\n",
      "X29 :  3.357\n",
      "X27 :  inf\n"
     ]
    }
   ],
   "source": [
    "shortlist_var('X23', 'Y', 'bin', 3, 200)\n",
    "shortlist_var('X31', 'Y', 'bin', 3, 200)\n",
    "shortlist_var('X24', 'Y', 'bin', 3, 200)\n",
    "shortlist_var('X42', 'Y', 'bin', 3, 200)\n",
    "shortlist_var('X26', 'Y', 'bin', 3, 200)\n",
    "shortlist_var('X7', 'Y', 'bin', 3, 200)\n",
    "shortlist_var('X25', 'Y', 'bin', 3, 200)\n",
    "shortlist_var('X29', 'Y', 'bin', 3, 200)\n",
    "shortlist_var('X27', 'Y', 'bin', 3, 200)"
   ]
  },
  {
   "cell_type": "markdown",
   "metadata": {},
   "source": [
    "---\n",
    "# 4. VIF"
   ]
  },
  {
   "cell_type": "code",
   "execution_count": 8,
   "metadata": {},
   "outputs": [],
   "source": [
    "def VIF (data):\n",
    "    X = add_constant(data)\n",
    "    Y = pd.Series([variance_inflation_factor(X.values, i)\n",
    "                   for i in range(X.shape[1])],\n",
    "                  index=X.columns)\n",
    "    print(Y)"
   ]
  },
  {
   "cell_type": "code",
   "execution_count": 9,
   "metadata": {},
   "outputs": [
    {
     "name": "stdout",
     "output_type": "stream",
     "text": [
      "const      5.760919\n",
      "X1         1.114705\n",
      "X2         1.032913\n",
      "X3         1.110700\n",
      "X4         1.005584\n",
      "X5         1.131212\n",
      "X6         1.113979\n",
      "X7         1.122714\n",
      "X8         1.104488\n",
      "X9         1.232571\n",
      "X10        1.086940\n",
      "X11        1.205791\n",
      "X12        1.110524\n",
      "X13        1.096370\n",
      "X14        1.077925\n",
      "X15        1.356871\n",
      "X16        1.069370\n",
      "X17        1.199993\n",
      "X18        1.158980\n",
      "X19        1.320131\n",
      "X20        1.134471\n",
      "X21        1.327096\n",
      "X22        1.300010\n",
      "X23        1.322395\n",
      "X24        1.087865\n",
      "X25        1.563415\n",
      "X26        1.515763\n",
      "X27        1.115245\n",
      "X28        1.939884\n",
      "X29        1.840897\n",
      "X30        2.184289\n",
      "X31        2.379171\n",
      "X32      110.333161\n",
      "X33        1.058818\n",
      "X34      107.189785\n",
      "X35        1.719972\n",
      "X36        2.655705\n",
      "X37        1.281053\n",
      "X38        1.046945\n",
      "X39        1.145760\n",
      "X40        3.534098\n",
      "X41        1.171563\n",
      "X42        1.461171\n",
      "X43        1.232854\n",
      "X44        1.035731\n",
      "X45        1.093573\n",
      "X46        1.210346\n",
      "X47        1.014413\n",
      "X48        1.014559\n",
      "X49        1.248900\n",
      "X50        1.636575\n",
      "X51        1.087267\n",
      "X52        1.082281\n",
      "X53        1.232899\n",
      "X54        1.077550\n",
      "X55        1.424387\n",
      "X56        2.397723\n",
      "X57        1.634672\n",
      "dtype: float64\n"
     ]
    }
   ],
   "source": [
    "x = df[['X1', 'X2', 'X3', 'X4', 'X5', 'X6', 'X7', 'X8', 'X9', 'X10', 'X11', 'X12', 'X13', 'X14', 'X15', \n",
    "        'X16', 'X17', 'X18', 'X19', 'X20', 'X21', 'X22', 'X23', 'X24', 'X25', 'X26', 'X27', 'X28', 'X29',\n",
    "        'X30', 'X31', 'X32', 'X33', 'X34', 'X35', 'X36', 'X37', 'X38', 'X39', 'X40', 'X41', 'X42', 'X43', \n",
    "        'X44', 'X45', 'X46', 'X47', 'X48', 'X49', 'X50', 'X51', 'X52', 'X53', 'X54', 'X55', 'X56', 'X57']]\n",
    "VIF(x)"
   ]
  },
  {
   "cell_type": "code",
   "execution_count": 10,
   "metadata": {},
   "outputs": [
    {
     "name": "stdout",
     "output_type": "stream",
     "text": [
      "const    1.498539\n",
      "X27      1.013588\n",
      "X29      1.532706\n",
      "X25      1.394101\n",
      "X7       1.019822\n",
      "X26      1.401184\n",
      "X42      1.314182\n",
      "X24      1.011384\n",
      "X31      1.351799\n",
      "X23      1.022156\n",
      "dtype: float64\n"
     ]
    }
   ],
   "source": [
    "x = df[['X27','X29','X25','X7','X26','X42','X24','X31','X23']]\n",
    "VIF(x)"
   ]
  },
  {
   "cell_type": "markdown",
   "metadata": {},
   "source": [
    "---\n",
    "# 5. dependent variable"
   ]
  },
  {
   "cell_type": "code",
   "execution_count": 11,
   "metadata": {
    "scrolled": true
   },
   "outputs": [
    {
     "name": "stdout",
     "output_type": "stream",
     "text": [
      "0    2376\n",
      "1    1534\n",
      "Name: Y, dtype: int64\n"
     ]
    },
    {
     "data": {
      "image/png": "[encoded data removed]",
      "text/plain": [
       "<Figure size 432x288 with 1 Axes>"
      ]
     },
     "metadata": {
      "needs_background": "light"
     },
     "output_type": "display_data"
    }
   ],
   "source": [
    "print(df['Y'].value_counts())\n",
    "sns.countplot(df['Y'], color='greenyellow');"
   ]
  }
 ],
 "metadata": {
  "kernelspec": {
   "display_name": "Python 3",
   "language": "python",
   "name": "python3"
  },
  "language_info": {
   "codemirror_mode": {
    "name": "ipython",
    "version": 3
   },
   "file_extension": ".py",
   "mimetype": "text/x-python",
   "name": "python",
   "nbconvert_exporter": "python",
   "pygments_lexer": "ipython3",
   "version": "3.7.6"
  }
 },
 "nbformat": 4,
 "nbformat_minor": 2
}
